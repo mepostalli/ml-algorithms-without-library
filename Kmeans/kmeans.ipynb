{
 "cells": [
  {
   "cell_type": "code",
   "execution_count": 1,
   "id": "7b220787",
   "metadata": {},
   "outputs": [],
   "source": [
    "import numpy as np\n",
    "import matplotlib.pyplot as plt"
   ]
  },
  {
   "cell_type": "code",
   "execution_count": 2,
   "id": "32e5f4f1",
   "metadata": {},
   "outputs": [],
   "source": [
    "data = np.array([[1, 2], [1.5, 1.8], [5, 8], [8, 8], [1, 0.6], [9, 11],])"
   ]
  },
  {
   "cell_type": "code",
   "execution_count": 3,
   "id": "2770f222",
   "metadata": {},
   "outputs": [],
   "source": [
    "def euclidean_distance(point1, point2):\n",
    "    return np.sqrt(np.sum((point1 - point2)**2))"
   ]
  },
  {
   "cell_type": "code",
   "execution_count": 4,
   "id": "9ba84580",
   "metadata": {},
   "outputs": [],
   "source": [
    "def kmeans_clustering(data, k, max_iterations=100):\n",
    "    \n",
    "    np.random.seed(30)\n",
    "    center_indices = np.random.choice(len(data), k, replace=False)\n",
    "    centers = data[center_indices]\n",
    "\n",
    "    for _ in range(max_iterations):\n",
    "        clusters = [[] for _ in range(k)]\n",
    "        for point in data:\n",
    "            distances = [euclidean_distance(point, center) for center in centers]\n",
    "            closest_center_index = np.argmin(distances)\n",
    "            clusters[closest_center_index].append(point)\n",
    "\n",
    "        \n",
    "        new_centers = [np.mean(cluster, axis=0) for cluster in clusters]\n",
    "\n",
    "        if np.allclose(centers, new_centers):\n",
    "            break\n",
    "\n",
    "        centers = new_centers\n",
    "\n",
    "    return centers, clusters"
   ]
  },
  {
   "cell_type": "code",
   "execution_count": 5,
   "id": "b34a06d5",
   "metadata": {},
   "outputs": [],
   "source": [
    "k = 2\n",
    "centers, clusters = kmeans_clustering(data, k)"
   ]
  },
  {
   "cell_type": "code",
   "execution_count": 7,
   "id": "58f5ed7a",
   "metadata": {},
   "outputs": [
    {
     "data": {
      "text/plain": [
       "<matplotlib.collections.PathCollection at 0x10fdb6da0>"
      ]
     },
     "execution_count": 7,
     "metadata": {},
     "output_type": "execute_result"
    },
    {
     "data": {
      "image/png": "[encoded data removed]",
      "text/plain": [
       "<Figure size 640x480 with 1 Axes>"
      ]
     },
     "metadata": {},
     "output_type": "display_data"
    }
   ],
   "source": [
    "plt.scatter(data[:, 0], data[:, 1], c='blue', label='Data Points')\n",
    "\n",
    "centers_x = [center[0] for center in centers]\n",
    "centers_y = [center[1] for center in centers]\n",
    "plt.scatter(centers_x, centers_y, c='red', marker='x', s=100, label='Cluster Centers')"
   ]
  },
  {
   "cell_type": "code",
   "execution_count": null,
   "id": "61dcd395",
   "metadata": {},
   "outputs": [],
   "source": []
  }
 ],
 "metadata": {
  "kernelspec": {
   "display_name": "Python 3 (ipykernel)",
   "language": "python",
   "name": "python3"
  },
  "language_info": {
   "codemirror_mode": {
    "name": "ipython",
    "version": 3
   },
   "file_extension": ".py",
   "mimetype": "text/x-python",
   "name": "python",
   "nbconvert_exporter": "python",
   "pygments_lexer": "ipython3",
   "version": "3.10.9"
  }
 },
 "nbformat": 4,
 "nbformat_minor": 5
}
